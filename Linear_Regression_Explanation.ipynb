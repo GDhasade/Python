{
 "cells": [
  {
   "cell_type": "markdown",
   "metadata": {},
   "source": [
    "# ------------------------ LINEAR REGRESSION ----------------------------"
   ]
  },
  {
   "cell_type": "markdown",
   "metadata": {},
   "source": [
    "### Introduction:\n",
    "- Supervised Machine Learning Algorithm.\n",
    "- Predicted output will be Continous (eg. Sales, Price, Salary etc.) and has Constant Slope.\n",
    "- Not good for classification problem.\n",
    "- There are 2 types of Linear Regression:\n",
    "    - Simple Linear Regression:\n",
    "        - Use traditional simple linear regression form i.e. y = mx + b in order to find best fit line pass through all data points.\n",
    "        - Where, y - Predicted output\n",
    "        - x - input\n",
    "        - m = slope\n",
    "        - b = bias or intercept.\n",
    "    - Multivairable Regression:\n",
    "        - Complex and it is in form of 𝑓(𝑥,𝑦,𝑧)=𝑤1𝑥+𝑤2𝑦+𝑤3𝑧\n",
    "        - Where, w - co-eifficent or weight assign to each input vairable\n",
    "        - x,y,z - input vairbles"
   ]
  },
  {
   "cell_type": "markdown",
   "metadata": {},
   "source": [
    "1. Basic Assumptions:\n"
   ]
  },
  {
   "cell_type": "code",
   "execution_count": null,
   "metadata": {},
   "outputs": [],
   "source": []
  }
 ],
 "metadata": {
  "kernelspec": {
   "display_name": "Python 3",
   "language": "python",
   "name": "python3"
  },
  "language_info": {
   "codemirror_mode": {
    "name": "ipython",
    "version": 3
   },
   "file_extension": ".py",
   "mimetype": "text/x-python",
   "name": "python",
   "nbconvert_exporter": "python",
   "pygments_lexer": "ipython3",
   "version": "3.7.4"
  }
 },
 "nbformat": 4,
 "nbformat_minor": 4
}
